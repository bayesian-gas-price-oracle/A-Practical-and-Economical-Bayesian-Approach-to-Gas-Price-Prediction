{
 "cells": [
  {
   "cell_type": "code",
   "execution_count": 2,
   "metadata": {},
   "outputs": [],
   "source": [
    "import csv   "
   ]
  },
  {
   "cell_type": "code",
   "execution_count": 3,
   "metadata": {},
   "outputs": [],
   "source": [
    "def downloadAllData(reader):\n",
    "    L = []\n",
    "    for row in reader:\n",
    "        L.append(row)\n",
    "    return L"
   ]
  },
  {
   "cell_type": "code",
   "execution_count": 4,
   "metadata": {},
   "outputs": [],
   "source": [
    "def predictMin(data, startIndex, windowsSize):\n",
    "    totalNumber = len(data)\n",
    "    minSet = []\n",
    "    for j in range(startIndex, startIndex + windowsSize):   \n",
    "        minSet.append(float(data[j][1]))\n",
    "    result = sorted(minSet)\n",
    "    return result"
   ]
  },
  {
   "cell_type": "code",
   "execution_count": 5,
   "metadata": {},
   "outputs": [],
   "source": [
    "def getPpercent(percent, list):\n",
    "    total = len(list)\n",
    "    index = float(total*percent)\n",
    "    if float(index) - float(int(index)) == 0:\n",
    "        index = int(index)\n",
    "        return float((list[index]+list[index-1])/2)\n",
    "    index = int(index)\n",
    "    return float(list[index-1]) "
   ]
  },
  {
   "cell_type": "code",
   "execution_count": 6,
   "metadata": {},
   "outputs": [],
   "source": [
    "def predictValue(list, windowSize, percent):\n",
    "    result = []\n",
    "    # The last index is unuse\n",
    "    for i in range(1,len(list)-windowSize):\n",
    "        tempList = predictMin(list, i, windowSize)\n",
    "        pValue = getPpercent(percent, tempList)\n",
    "        result.append(pValue)\n",
    "    return result"
   ]
  },
  {
   "cell_type": "code",
   "execution_count": 7,
   "metadata": {},
   "outputs": [],
   "source": [
    "def getTrueMin(data, startblock):\n",
    "    result=[]\n",
    "    # start point\n",
    "    for i in range(startblock, len(data)):\n",
    "        result.append(float(data[i][1]))\n",
    "    return result"
   ]
  },
  {
   "cell_type": "code",
   "execution_count": 8,
   "metadata": {},
   "outputs": [],
   "source": [
    "def computeOnChainPercentFixRange(predict, startIndex, endIndex, trueData):\n",
    "    possiblityOnchain = 0\n",
    "    integerRange = endIndex - startIndex\n",
    "    for i in range(startIndex, endIndex):\n",
    "        if float(predict[i]) > float(trueData[i]):\n",
    "            possiblityOnchain +=1\n",
    "    return float(possiblityOnchain / integerRange)"
   ]
  },
  {
   "cell_type": "code",
   "execution_count": 9,
   "metadata": {},
   "outputs": [],
   "source": [
    "def getLargeBias(winSize, predict, trueData):\n",
    "    upperBound = len(predict) - winSize\n",
    "    largeBias = computeOnChainPercentFixRange(predict, 0, winSize, trueData)\n",
    "    smallNumber = 0\n",
    "    for i in range(1, upperBound):\n",
    "        temp = computeOnChainPercentFixRange(predict, i, winSize+i, trueData)\n",
    "        if temp < largeBias:\n",
    "            largeBias = temp\n",
    "            smallNumber = i\n",
    "    return largeBias, smallNumber"
   ]
  },
  {
   "cell_type": "code",
   "execution_count": 10,
   "metadata": {},
   "outputs": [],
   "source": [
    "#GasStation-Express： Use 200 blocks\n",
    "csvFile = open(\"/Users/chihyunchuang/Downloads/new_block_p2.5.csv\")\n",
    "reader = csv.reader(csvFile)\n",
    "data = downloadAllData(reader)\n",
    "\n",
    "GSP50 = predictValue(data, 200, 0.5)\n",
    "GSP75 = predictValue(data, 200, 0.75)\n",
    "GSP84 = predictValue(data, 200, 0.8413)\n",
    "GSP95 = predictValue(data, 200, 0.95)\n",
    "trueMin = getTrueMin(data,201)"
   ]
  },
  {
   "cell_type": "code",
   "execution_count": 11,
   "metadata": {},
   "outputs": [],
   "source": [
    "#ETHGasStation Case： Use 100 blocks \n",
    "csvFile = open(\"/Users/chihyunchuang/Downloads/new_block_p2.5.csv\")\n",
    "reader = csv.reader(csvFile)\n",
    "data = downloadAllData(reader)\n",
    "\n",
    "expectedGasStationP50 = predictValue(data, 100, 0.5)\n",
    "expectedGasStationP75 = predictValue(data, 100, 0.75)\n",
    "expectedGasStationP84 = predictValue(data, 100, 0.8413)\n",
    "expectedGasStationP95 = predictValue(data, 100, 0.95)\n",
    "\n",
    "# Remove first 100 blocks\n",
    "expectedGasStationP50 = expectedGasStationP50[100: len(expectedGasStationP50)]\n",
    "expectedGasStationP75 = expectedGasStationP75[100: len(expectedGasStationP75)]\n",
    "expectedGasStationP84 = expectedGasStationP84[100: len(expectedGasStationP84)]\n",
    "expectedGasStationP95 = expectedGasStationP95[100: len(expectedGasStationP95)]"
   ]
  },
  {
   "cell_type": "code",
   "execution_count": 12,
   "metadata": {},
   "outputs": [],
   "source": [
    "csvFile = open(\"/Users/chihyunchuang/Downloads/new1-136312.csv\")\n",
    "reader2 = csv.reader(csvFile)\n",
    "datGP = downloadAllData(reader2)\n",
    "datGP = datGP[1:]"
   ]
  },
  {
   "cell_type": "code",
   "execution_count": 13,
   "metadata": {},
   "outputs": [],
   "source": [
    "with open(\"/Users/chihyunchuang/Downloads/newDataForNewBlock.csv\", 'w', newline='') as csvfile:\n",
    "    writer = csv.writer(csvfile)\n",
    "    writer.writerow(['block_number','true_min', 'GP-50', 'GP-75', 'GP-84.13', 'GP-95',   'Geth-50', 'Geth-75', 'Geth-84.13', 'Geth-95', 'GasStation-50', 'GasStation-75', 'GasStation-84.13', 'GasStation-95' ])\n",
    "\n",
    "    for i in range(1,len(datGP)-1):\n",
    "        writer.writerow([str(data[i+201][0]), trueMin[i], float(datGP[i][1]), float(datGP[i][1])+0.675*float(datGP[i][2]), float(datGP[i][1])+float(datGP[i][2]), float(datGP[i][1])+1.645*float(datGP[i][2])  ,  expectedGasStationP50[i], expectedGasStationP75[i], expectedGasStationP84[i], expectedGasStationP95[i], GSP50[i], GSP75[i],GSP84[i], GSP95[i]  ])"
   ]
  },
  {
   "cell_type": "code",
   "execution_count": null,
   "metadata": {},
   "outputs": [],
   "source": []
  }
 ],
 "metadata": {
  "kernelspec": {
   "display_name": "SageMath 9.1",
   "language": "sage",
   "name": "sagemath"
  },
  "language_info": {
   "codemirror_mode": {
    "name": "ipython",
    "version": 3
   },
   "file_extension": ".py",
   "mimetype": "text/x-python",
   "name": "python",
   "nbconvert_exporter": "python",
   "pygments_lexer": "ipython3",
   "version": "3.7.3"
  }
 },
 "nbformat": 4,
 "nbformat_minor": 2
}
