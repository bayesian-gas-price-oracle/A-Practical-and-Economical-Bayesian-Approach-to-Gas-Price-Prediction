{
 "cells": [
  {
   "cell_type": "code",
   "execution_count": 27,
   "metadata": {},
   "outputs": [],
   "source": [
    "import csv   "
   ]
  },
  {
   "cell_type": "code",
   "execution_count": 28,
   "metadata": {},
   "outputs": [],
   "source": [
    "def downloadAllData(reader):\n",
    "    L = []\n",
    "    for row in reader:\n",
    "        L.append(row)\n",
    "    return L"
   ]
  },
  {
   "cell_type": "code",
   "execution_count": 29,
   "metadata": {},
   "outputs": [],
   "source": [
    "def getList(data, indexColumn):\n",
    "    L = []\n",
    "    for i in range(1, len(data)):\n",
    "        L.append(data[i][indexColumn])\n",
    "    return L"
   ]
  },
  {
   "cell_type": "code",
   "execution_count": 30,
   "metadata": {},
   "outputs": [],
   "source": [
    "def predictMin(datalist, startIndex, windowsSize):\n",
    "    minSet = []\n",
    "    for j in range(startIndex, startIndex + windowsSize):   \n",
    "        minSet.append(float(datalist[j]))\n",
    "    result = sorted(minSet)\n",
    "    return result"
   ]
  },
  {
   "cell_type": "code",
   "execution_count": 31,
   "metadata": {},
   "outputs": [],
   "source": [
    "def getPpercent(percent, list):\n",
    "    total = len(list)\n",
    "    index = float(total*percent)\n",
    "    if float(index) - float(int(index)) == 0:\n",
    "        index = int(index)\n",
    "        \n",
    "        return float((list[index]+list[index-1])/2)\n",
    "    index = int(index)\n",
    "    return float(list[index-1]) "
   ]
  },
  {
   "cell_type": "code",
   "execution_count": 32,
   "metadata": {},
   "outputs": [],
   "source": [
    "def predictValue(list, windowSize, percent):\n",
    "    result = []\n",
    "    for i in range(0,len(list)-windowSize+1):\n",
    "        tempList = predictMin(list, i, windowSize)\n",
    "        pValue = getPpercent(percent, tempList)\n",
    "        result.append(pValue)\n",
    "    return result"
   ]
  },
  {
   "cell_type": "code",
   "execution_count": 33,
   "metadata": {},
   "outputs": [],
   "source": [
    "def getTrueMin(data, startblock):\n",
    "    result=[]\n",
    "    # start point\n",
    "    for i in range(startblock, len(data)):\n",
    "        result.append(float(data[i][1]))\n",
    "    return result"
   ]
  },
  {
   "cell_type": "code",
   "execution_count": 34,
   "metadata": {},
   "outputs": [],
   "source": [
    "def computeOnChainPercentFixRange(predictList, startIndex, endIndex, trueDataList):\n",
    "    possiblityOnchain = 0\n",
    "    integerRange = endIndex - startIndex\n",
    "    for i in range(startIndex, endIndex):\n",
    "        if float(predictList[i]) >= float(trueDataList[i]):\n",
    "            possiblityOnchain +=1\n",
    "    return float(possiblityOnchain / integerRange)"
   ]
  },
  {
   "cell_type": "code",
   "execution_count": 35,
   "metadata": {},
   "outputs": [],
   "source": [
    "def getBestPValue( expectedPValue, originPValue, origindataList, numbertraindata, trueList ):\n",
    "    error = 0.01\n",
    "    startUpPValue = originPValue\n",
    "    startlowPValue = 0.01\n",
    "    maxRetry = 15\n",
    "    result = (startlowPValue+startUpPValue)/2\n",
    "    \n",
    "    for i in range(maxRetry):     \n",
    "        dataList = predictValue(origindataList, numbertraindata, result)      \n",
    "        tempPValue =  computeOnChainPercentFixRange(dataList, 0,  numbertraindata, trueList)\n",
    "        i +=1   \n",
    "        if tempPValue > expectedPValue + error:\n",
    "            startUpPValue = result\n",
    "            result = (startUpPValue+startlowPValue)/2\n",
    "        elif tempPValue < expectedPValue - error:\n",
    "            startlowPValue = result\n",
    "            result = (startUpPValue+startlowPValue)/2\n",
    "        else:\n",
    "            return result\n",
    "    return originPValue"
   ]
  },
  {
   "cell_type": "code",
   "execution_count": 36,
   "metadata": {},
   "outputs": [],
   "source": [
    "# The predicting data of GP \n",
    "csvFile = open(\"/Users/chihyunchuang/Downloads/new1-136312.csv\")\n",
    "reader2 = csv.reader(csvFile)\n",
    "datGP = downloadAllData(reader2)\n",
    "datGP = datGP[1:]"
   ]
  },
  {
   "cell_type": "code",
   "execution_count": 37,
   "metadata": {},
   "outputs": [],
   "source": [
    "# Algorithm 1\n",
    "def getPredictList(data,  numbertraindata, upperBoundTrainData, pValue, error):\n",
    "    upperBound = pValue + error\n",
    "    lowBound = pValue -error\n",
    "    \n",
    "    minList = []\n",
    "    for i in range(1, len(data)):\n",
    "        minList.append( data[i][1] )\n",
    "    \n",
    "    predictData = predictValue(minList,  numbertraindata, pValue)\n",
    "    # the last index is unuse\n",
    "    predictData = predictData[upperBoundTrainData - numbertraindata:len(predictData)-1]  \n",
    "    trueData = getTrueMin(data, upperBoundTrainData+1)\n",
    "     \n",
    "    result = []\n",
    "    # initial data\n",
    "    for i in range(0, numbertraindata):\n",
    "        result.append(trueData[i])\n",
    "     \n",
    "    for i in range(0, len(datGP) - numbertraindata):\n",
    "        # Compute R value to monitor the success ratio\n",
    "        nowOnChainRatio = computeOnChainPercentFixRange(predictData, i, i+numbertraindata, trueData)\n",
    "        nowArray = trueData[i:i+numbertraindata]\n",
    "        \n",
    "        if nowOnChainRatio >= upperBound:\n",
    "            # use decay method\n",
    "            preductValue = predictValue(nowArray,  numbertraindata, pValue)[0]\n",
    "            trainList = minList[i: i+numbertraindata+numbertraindata-1]\n",
    "            trueList = minList[i+numbertraindata:i+numbertraindata+numbertraindata ]\n",
    "            bestP = getBestPValue( pValue, nowOnChainRatio, trainList, numbertraindata, trueList )\n",
    "            preductValue = predictValue(nowArray,  numbertraindata, pValue)[0]\n",
    "            result.append(preductValue)\n",
    "        elif nowOnChainRatio <= lowBound:\n",
    "            # use GP Method\n",
    "            GPValue = float(datGP[i+numbertraindata][1])+1.645*float(datGP[i+numbertraindata][2])      \n",
    "            GSValue = predictValue(nowArray,  numbertraindata, pValue)[0]\n",
    "            if GPValue < GSValue:\n",
    "                GPValue = GSValue       \n",
    "            result.append(preductValue)\n",
    "        else:\n",
    "            preductValue = predictValue(nowArray,  numbertraindata, pValue)[0]\n",
    "            result.append(preductValue)\n",
    "    return result"
   ]
  },
  {
   "cell_type": "code",
   "execution_count": 38,
   "metadata": {},
   "outputs": [],
   "source": [
    "csvFile = open(\"/Users/chihyunchuang/Downloads/new_block_p2.5.csv\")\n",
    "reader = csv.reader(csvFile)\n",
    "data = downloadAllData(reader)"
   ]
  },
  {
   "cell_type": "code",
   "execution_count": 39,
   "metadata": {},
   "outputs": [],
   "source": [
    "# parameters: number of training data of GS, max{number of training data of GP, number of traing data of GS}, Pvalue, error  \n",
    "expected = getPredictList(data,  30, 200, 0.95, 0.1)\n",
    "trueData = getTrueMin(data, 201)"
   ]
  },
  {
   "cell_type": "code",
   "execution_count": 91,
   "metadata": {},
   "outputs": [],
   "source": [
    "with open(\"/Users/chihyunchuang/Downloads/newDataForNewBlock1-13612.csv\", 'w', newline='') as csvfile:\n",
    "    writer = csv.writer(csvfile)\n",
    "    writer.writerow(['block_number','true_min', 'Amis-75' ])\n",
    "\n",
    "    for i in range(1,len(datGP)-1):\n",
    "        writer.writerow([str(data[i+201][0]), trueData[i], expected[i]  ])"
   ]
  }
 ],
 "metadata": {
  "kernelspec": {
   "display_name": "SageMath 9.1",
   "language": "sage",
   "name": "sagemath"
  },
  "language_info": {
   "codemirror_mode": {
    "name": "ipython",
    "version": 3
   },
   "file_extension": ".py",
   "mimetype": "text/x-python",
   "name": "python",
   "nbconvert_exporter": "python",
   "pygments_lexer": "ipython3",
   "version": "3.7.3"
  }
 },
 "nbformat": 4,
 "nbformat_minor": 2
}
